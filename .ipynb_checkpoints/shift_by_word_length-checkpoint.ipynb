{
 "cells": [
  {
   "cell_type": "code",
   "execution_count": 20,
   "metadata": {},
   "outputs": [],
   "source": [
    "#function to shift inputted strings by length of words forward if even and backwards if odd\n",
    "#use encrypt = false to decrypt (reverse)\n"
   ]
  },
  {
   "cell_type": "code",
   "execution_count": 12,
   "metadata": {},
   "outputs": [],
   "source": [
    "def encrypter(text, encrypt=True):\n",
    "    alpha=\"abcdefghijklmnopqrstuvwxyz\"\n",
    "    punc = '''!()-[]{};:'\"\\, <>./?@#$%^&*_~'''\n",
    "    new_string = []\n",
    "    split_by_space = text.split(\" \")\n",
    "    \n",
    "    for words in split_by_space:\n",
    "        new_letters = []\n",
    "        word = list(words)\n",
    "        if not((len(word)%2) == 0 | encrypt == True):\n",
    "            modifier = len(word)\n",
    "        else:\n",
    "            modifier = -len(word)\n",
    "        print(modifier)\n",
    "        \n",
    "        for char in word:\n",
    "            #print(char)\n",
    "            if alpha.find(char) != -1:  \n",
    "                if alpha.find(char)+modifier >= len(alpha):\n",
    "                    shifted = alpha[alpha.find(char)+modifier-26]\n",
    "                elif alpha.find(char)+modifier < 0:\n",
    "                    shifted = alpha[alpha.find(char)+modifier+26]\n",
    "                else:\n",
    "                    shifted = alpha[alpha.find(char)+modifier]\n",
    "                    \n",
    "            else:\n",
    "                shifted = char\n",
    "            new_letters.append(shifted)\n",
    "            \n",
    "        new_word = \"\".join(new_letters)\n",
    "        new_string.append(new_word)\n",
    "    print(\" \".join(new_string))"
   ]
  },
  {
   "cell_type": "code",
   "execution_count": 13,
   "metadata": {},
   "outputs": [
    {
     "name": "stdout",
     "output_type": "stream",
     "text": [
      "2\n",
      "cd\n"
     ]
    }
   ],
   "source": [
    "encrypter(\"ab\", encrypt=False)"
   ]
  },
  {
   "cell_type": "code",
   "execution_count": null,
   "metadata": {},
   "outputs": [],
   "source": []
  }
 ],
 "metadata": {
  "kernelspec": {
   "display_name": "Python 3",
   "language": "python",
   "name": "python3"
  },
  "language_info": {
   "codemirror_mode": {
    "name": "ipython",
    "version": 3
   },
   "file_extension": ".py",
   "mimetype": "text/x-python",
   "name": "python",
   "nbconvert_exporter": "python",
   "pygments_lexer": "ipython3",
   "version": "3.7.6rc1"
  }
 },
 "nbformat": 4,
 "nbformat_minor": 2
}
